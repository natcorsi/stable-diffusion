{
 "cells": [
  {
   "cell_type": "code",
   "execution_count": null,
   "id": "06e90a96",
   "metadata": {},
   "outputs": [],
   "source": [
    "\n",
    "from google.colab import drive\n",
    "drive.mount('/content/drive')\n"
   ]
  },
  {
   "cell_type": "code",
   "execution_count": null,
   "id": "ff4c1b83",
   "metadata": {},
   "outputs": [],
   "source": [
    "\n",
    "!pip install -U pip\n"
   ]
  },
  {
   "cell_type": "code",
   "execution_count": null,
   "id": "976c1979",
   "metadata": {},
   "outputs": [],
   "source": [
    "\n",
    "!pip uninstall -y torch torchvision torchaudio\n"
   ]
  },
  {
   "cell_type": "code",
   "execution_count": null,
   "id": "6969d53e",
   "metadata": {},
   "outputs": [],
   "source": [
    "\n",
    "!pip install torch==2.0.1 torchvision==0.15.2 torchaudio==2.0.2 --index-url https://download.pytorch.org/whl/cu118\n"
   ]
  },
  {
   "cell_type": "code",
   "execution_count": null,
   "id": "44a202a3",
   "metadata": {},
   "outputs": [],
   "source": [
    "\n",
    "!pip install -U xformers==0.0.20 triton==2.0.0 safetensors==0.3.1\n"
   ]
  },
  {
   "cell_type": "code",
   "execution_count": null,
   "id": "07c8ac56",
   "metadata": {},
   "outputs": [],
   "source": [
    "\n",
    "!git clone https://github.com/AUTOMATIC1111/stable-diffusion-webui\n",
    "%cd stable-diffusion-webui\n"
   ]
  },
  {
   "cell_type": "code",
   "execution_count": null,
   "id": "14ca5927",
   "metadata": {},
   "outputs": [],
   "source": [
    "\n",
    "# --- ATENÇÃO ---\n",
    "# Edite o caminho abaixo para o local correto do seu modelo .ckpt ou .safetensors no Drive\n",
    "caminho_modelo_drive = \"/content/drive/MyDrive/seu_caminho/modelo.safetensors\"\n",
    "!cp \"{caminho_modelo_drive}\" \"models/Stable-diffusion/\"\n"
   ]
  },
  {
   "cell_type": "code",
   "execution_count": null,
   "id": "1fc5ceb3",
   "metadata": {},
   "outputs": [],
   "source": [
    "\n",
    "!python launch.py --share --xformers\n"
   ]
  }
 ],
 "metadata": {},
 "nbformat": 4,
 "nbformat_minor": 5
}
